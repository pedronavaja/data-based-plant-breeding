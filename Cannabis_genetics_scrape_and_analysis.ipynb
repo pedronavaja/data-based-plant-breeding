{
 "cells": [
  {
   "cell_type": "code",
   "execution_count": null,
   "metadata": {
    "collapsed": true
   },
   "outputs": [],
   "source": [
    "import requests\n",
    "import pandas as pd\n",
    "from bs4 import BeautifulSoup\n",
    "import time\n",
    "import seaborn as sns\n",
    "import numpy as np\n",
    "import matplotlib.pyplot as plt\n",
    "import patsy\n",
    "from sklearn.linear_model import LinearRegression\n",
    "from sklearn.preprocessing import PolynomialFeatures\n",
    "from sklearn.pipeline import make_pipeline\n",
    "from sklearn.model_selection import train_test_split\n",
    "from sklearn.metrics import mean_squared_error\n",
    "from scipy.optimize import minimize\n",
    "from scipy.stats import t\n",
    "import statsmodels.api as sm    #import statsmodels for the stats models\n",
    "import statsmodels.formula.api as smf\n",
    "from sklearn.linear_model import RidgeCV\n",
    "from sklearn.linear_model import ElasticNet\n",
    "from sklearn.model_selection import KFold\n",
    "%matplotlib inline"
   ]
  },
  {
   "cell_type": "code",
   "execution_count": null,
   "metadata": {
    "collapsed": true
   },
   "outputs": [],
   "source": [
    "url = 'https://www.wikileaf.com/strains/'\n",
    "response = requests.get(url)\n",
    "wl = response.text\n",
    "wl_soup = BeautifulSoup(wl,'lxml')"
   ]
  },
  {
   "cell_type": "code",
   "execution_count": null,
   "metadata": {
    "collapsed": true
   },
   "outputs": [],
   "source": [
    "strains = wl_soup.find_all(class_='strain-title')"
   ]
  },
  {
   "cell_type": "code",
   "execution_count": null,
   "metadata": {
    "collapsed": true
   },
   "outputs": [],
   "source": [
    "Strain_name = []\n",
    "Strain_link = []"
   ]
  },
  {
   "cell_type": "code",
   "execution_count": null,
   "metadata": {
    "collapsed": true
   },
   "outputs": [],
   "source": [
    "for div in strains: \n",
    "    link = div.find('a')\n",
    "    Strain_name.append(link.text)\n",
    "    Strain_link.append(link['href'])"
   ]
  },
  {
   "cell_type": "code",
   "execution_count": null,
   "metadata": {
    "collapsed": true
   },
   "outputs": [],
   "source": [
    "genetics_ls = []\n",
    "ind_sat = []\n",
    "THC_content = []\n",
    "parents_1 = []\n",
    "parents_2 = []\n",
    "reviews = []"
   ]
  },
  {
   "cell_type": "code",
   "execution_count": null,
   "metadata": {
    "collapsed": true
   },
   "outputs": [],
   "source": [
    "#A helper method for pretty-printing linear models\n",
    "def pretty_print_linear(coefs, names = None, sort = False):\n",
    "    if names == None:\n",
    "        names = [\"X%s\" % x for x in range(len(coefs))]\n",
    "    lst = zip(coefs, names)\n",
    "    if sort:\n",
    "        lst = sorted(lst,  key = lambda x:-np.abs(x[0]))\n",
    "    return \" + \".join(\"%s * %s\" % (round(coef, 3), name)\n",
    "                                   for coef, name in lst)\n",
    "\n",
    "def indica_pct(genetics, ind_sat):\n",
    "    if ind_sat == 'Indica':\n",
    "        return genetics\n",
    "    elif ind_sat == 'Sativa':\n",
    "        return 1 - genetics \n",
    "    elif ind_sat == 'Hybrid':\n",
    "        return genetics\n",
    "    \n",
    "def sativa_pct(genetics, ind_sat):\n",
    "    if ind_sat == 'Sativa':\n",
    "        return genetics\n",
    "    elif ind_sat == 'Indica':\n",
    "        return 1 - genetics \n",
    "    elif ind_sat == 'Hybrid':\n",
    "        return genetics "
   ]
  },
  {
   "cell_type": "code",
   "execution_count": null,
   "metadata": {
    "collapsed": true
   },
   "outputs": [],
   "source": [
    "for link in Strain_link:\n",
    "    \n",
    "   \n",
    "    print('Souping %s ...' % link)\n",
    "\n",
    "    try: \n",
    "        strain_url = link\n",
    "        response = requests.get(strain_url)\n",
    "        strain_page = response.text\n",
    "        strain_soup = BeautifulSoup(strain_page, 'lxml')\n",
    "        print('Success!')\n",
    "\n",
    "    except Exception as e:\n",
    "        print('Error souping %s' % link)\n",
    "        print(e)\n",
    "        pass \n",
    "\n",
    "    try: \n",
    "        print('Getting genetics data for %s ' % link)\n",
    "        genetics = strain_soup.find(class_='strain-type-text')\n",
    "        genetics = genetics.text.strip()\n",
    "        genetics = genetics.split('%')\n",
    "        genetics_ls.append(float(genetics[0])/100)\n",
    "        ind_sat.append(genetics[1])\n",
    "        print('Success!')\n",
    "\n",
    "    except Exception as e:\n",
    "        print('Unable to gather genetics data for %s ' % link)\n",
    "        print(e)\n",
    "        pass\n",
    "\n",
    "    try:\n",
    "        print('Getting THC data for %s ' % link )\n",
    "        THC_tests = strain_soup.find_all(class_='graph-val')\n",
    "        avg_thc = THC_tests[2].text\n",
    "        THC_content.append(avg_thc)\n",
    "        print('Success!')\n",
    "\n",
    "    except Exception as e:\n",
    "        print('Unable to gather THC data for %s ' % link)\n",
    "        print(e)\n",
    "        pass\n",
    "\n",
    "    try: \n",
    "        print('Getting parent 1 for %s ' % link)\n",
    "        parents = strain_soup.find(class_='strain-side-box parent').find_all('li')\n",
    "        parent_1 = parents[0].text\n",
    "        parents_1.append(parent_1)\n",
    "        print('Success!')\n",
    "\n",
    "    except Exception as e:\n",
    "        print('No genealogy data for %s' % link)\n",
    "        print(e)\n",
    "        parents_1.append('NA')\n",
    "#         parents_2.append('NA')\n",
    "        pass\n",
    "\n",
    "    try:\n",
    "        print('Getting parent 2 for %s ' % link)\n",
    "        parent_2 = parents[1].text\n",
    "        parents_2.append(parent_2)\n",
    "        print('Success!')\n",
    "\n",
    "    except Exception as e:\n",
    "        print('%s might be 1-parent strain' % link)\n",
    "        print(e)\n",
    "        parents_2.append('NA')\n",
    "        pass\n",
    "\n",
    "    try: \n",
    "        print('Getting review counts for %s ' % link)\n",
    "        review_count = strain_soup.find(class_='review-counts').text\n",
    "        review_count = review_count.strip()\n",
    "        review_count = review_count.split(' ')[0]\n",
    "        if review_count == 'Write':\n",
    "            reviews.append(0)\n",
    "        else: \n",
    "            reviews.append(review_count)\n",
    "        print('Success!')\n",
    "\n",
    "    except Exception as e: \n",
    "        print('Review problem with %s' % link)\n",
    "        print(e)\n",
    "        pass\n",
    "\n",
    "    time.sleep(1)"
   ]
  },
  {
   "cell_type": "code",
   "execution_count": null,
   "metadata": {
    "collapsed": true
   },
   "outputs": [],
   "source": [
    "genetics_df = pd.DataFrame({'strain': Strain_name, 'genetics': genetics_ls, 'ind_sat': ind_sat, \n",
    "                                     'thc_content': THC_content, 'parent_1': parents_1, 'parent_2': parents_2,\n",
    "                                     'no_reviews': reviews}, columns = ['strain', 'genetics', 'ind_sat', 'thc_content',\n",
    "                                                                        'parent_1', 'parent_2', 'no_reviews'])"
   ]
  },
  {
   "cell_type": "code",
   "execution_count": null,
   "metadata": {
    "collapsed": true
   },
   "outputs": [],
   "source": [
    "genetics_df['thc_content'] = genetics_df['thc_content'].map(lambda x: x.rstrip('%'))\n",
    "genetics_df['thc_content'] = genetics_df['thc_content'].apply(pd.to_numeric)\n",
    "genetics_df['thc_content'].hist()"
   ]
  },
  {
   "cell_type": "code",
   "execution_count": null,
   "metadata": {
    "collapsed": true
   },
   "outputs": [],
   "source": []
  },
  {
   "cell_type": "code",
   "execution_count": null,
   "metadata": {
    "collapsed": true
   },
   "outputs": [],
   "source": [
    "genetics_df['indica'] = genetics_df.apply(lambda row: indica_pct(row['genetics'], row['ind_sat']), axis = 1) # df['Value'] = df.apply(lambda row: my_test(row['a'], row['c']), axis=1)\n",
    "genetics_df['sativa'] = genetics_df.apply(lambda row: sativa_pct(row['genetics'], row['ind_sat']), axis = 1)"
   ]
  },
  {
   "cell_type": "code",
   "execution_count": null,
   "metadata": {
    "collapsed": true
   },
   "outputs": [],
   "source": [
    "x , y = genetics_df['indica'], genetics_df['thc_content']\n",
    "plt.plot(x,y, 'ro')\n",
    "z,w = genetics_df['sativa'], genetics_df['thc_content']\n",
    "plt.plot(z,w, 'bo')"
   ]
  },
  {
   "cell_type": "code",
   "execution_count": null,
   "metadata": {
    "collapsed": true
   },
   "outputs": [],
   "source": [
    "mask = (genetics_df.parent_1 != 'NA') & (genetics_df.parent_2 != 'NA')\n",
    "twoparents_df = genetics_df[mask]"
   ]
  },
  {
   "cell_type": "code",
   "execution_count": null,
   "metadata": {
    "collapsed": true
   },
   "outputs": [],
   "source": [
    "P0_1a = patsy.dmatrix('parent',\n",
    "                    data = twoparents_df.rename(columns={'parent_1':'parent'}),\n",
    "                    return_type = 'dataframe').dropna(axis=0)\n",
    "\n",
    "P0_2a = patsy.dmatrix('parent',\n",
    "                    data = twoparents_df.rename(columns={'parent_2':'parent'}),\n",
    "                    return_type = 'dataframe').dropna(axis=0)\n",
    "                      \n",
    "columns = list(set(P0_1a.columns.tolist() + P0_2a.columns.tolist()))\n",
    "\n",
    "P0a = pd.DataFrame()\n",
    "for col in columns:\n",
    "    P0a[col] = pd.Series([0]*P0_2a.shape[0])\n",
    "    if col in P0_1a.columns:\n",
    "        P0a[col] += P0_1a[col].values\n",
    "    if col in P0_2a.columns:\n",
    "        P0a[col] += P0_2a[col].values"
   ]
  },
  {
   "cell_type": "code",
   "execution_count": null,
   "metadata": {
    "collapsed": true
   },
   "outputs": [],
   "source": [
    "encoded = pd.concat([twoparents_df, P0a], axis=1)\n",
    "encoded = encoded.drop(['parent_1', 'parent_2'], axis=1, inplace=True)"
   ]
  },
  {
   "cell_type": "code",
   "execution_count": null,
   "metadata": {
    "collapsed": true
   },
   "outputs": [],
   "source": [
    "lr = LinearRegression()\n",
    "X = encoded.iloc[:, 5:]\n",
    "y = encoded.iloc[:, 2]\n",
    "lr.fit(X,y)\n",
    "lr.score(X,y)"
   ]
  },
  {
   "cell_type": "code",
   "execution_count": null,
   "metadata": {
    "collapsed": true
   },
   "outputs": [],
   "source": [
    "X_train, X_test, y_train, y_test = train_test_split(X, y, test_size=0.3)\n",
    "\n",
    "kf = KFold(n_splits=5, shuffle=True)\n",
    "degree = 2 \n",
    "est = make_pipeline(PolynomialFeatures(degree), LinearRegression())"
   ]
  },
  {
   "cell_type": "code",
   "execution_count": null,
   "metadata": {
    "collapsed": true
   },
   "outputs": [],
   "source": [
    "est.fit(X,y)"
   ]
  },
  {
   "cell_type": "code",
   "execution_count": null,
   "metadata": {
    "collapsed": true
   },
   "outputs": [],
   "source": [
    "kf = KFold(n_splits=5, shuffle=True)\n",
    "\n",
    "degree=2\n",
    "all_scores=[]\n",
    "alphas=[1e-5,1e-3,1e-1,0,1,100]\n",
    "l1_ratios = [0.1,0.9,0.5]\n",
    "\n",
    "params = []\n",
    "for a in alphas:\n",
    "    for l1r in l1_ratios:\n",
    "        params.append((a,l1r))\n",
    "\n",
    "for train, test in kf.split(X):\n",
    "    x_tr = X.iloc[train]\n",
    "    y_tr = y.iloc[train]\n",
    "    x_te = X.iloc[test]\n",
    "    y_te = y.iloc[test]\n",
    "    mse_score=[]\n",
    "    for a,l1r in params:\n",
    "        est=make_pipeline(PolynomialFeatures(degree), ElasticNet(alpha=a, l1_ratio=l1r))\n",
    "        est.fit(x_tr,y_tr)\n",
    "        mse=np.mean((y_te-est.predict(x_te))**2)\n",
    "        mse_score.append(mse)\n",
    "    all_scores.append(mse_score)\n",
    "\n",
    "best_idx = np.argmin(all_scores)\n",
    "best_score = all_scores[best_idx//len(params)][best_idx%len(params)]\n",
    "best_params = params[best_idx % len(params)]\n",
    "print ('best_idx = ', best_idx, ' best_params = ', best_params, '  best_score = ', best_score)\n",
    "est=ElasticNet(alpha=best_params[0], l1_ratio=best_params[1])"
   ]
  },
  {
   "cell_type": "code",
   "execution_count": null,
   "metadata": {
    "collapsed": true
   },
   "outputs": [],
   "source": [
    "plt.plot(ytest, est.predict(xtest), color='blue',\n",
    "         marker='o',ls='')\n",
    "\n",
    "plt.xticks(())\n",
    "plt.yticks(())\n",
    "\n",
    "plt.show()"
   ]
  },
  {
   "cell_type": "code",
   "execution_count": null,
   "metadata": {
    "collapsed": true
   },
   "outputs": [],
   "source": [
    "est.fit(X_train,y_train)\n",
    "zipped=zip(X.columns,est.coef_)\n",
    "features=sorted(zipped,key = lambda t: abs(t[1]),reverse=True)\n",
    "for f in features[:10]:\n",
    "    print (\"{:20.20s} {:7.3f}\".format(f[0], f[1]))"
   ]
  },
  {
   "cell_type": "code",
   "execution_count": null,
   "metadata": {
    "collapsed": true
   },
   "outputs": [],
   "source": [
    "x, y = genetics_df['parent_Pineapple_Kush'], genetics_df['thc_content']\n",
    "plt.plot(x,y, 'ro')"
   ]
  },
  {
   "cell_type": "code",
   "execution_count": null,
   "metadata": {
    "collapsed": true
   },
   "outputs": [],
   "source": [
    "x, y = genetics_df['parent_Fucking_Incredible'], genetics_df['thc_content']\n",
    "plt.plot(x,y, 'ro')"
   ]
  },
  {
   "cell_type": "code",
   "execution_count": null,
   "metadata": {
    "collapsed": true
   },
   "outputs": [],
   "source": [
    "x, y = genetics_df['parent_Chemdawg'], genetics_df['thc_content']\n",
    "plt.plot(x,y, 'ro')"
   ]
  },
  {
   "cell_type": "code",
   "execution_count": null,
   "metadata": {
    "collapsed": true
   },
   "outputs": [],
   "source": [
    "x, y = genetics_df['parent_Golden_Goat'], genetics_df['thc_content']\n",
    "plt.plot(x,y, 'go')"
   ]
  },
  {
   "cell_type": "code",
   "execution_count": null,
   "metadata": {
    "collapsed": true
   },
   "outputs": [],
   "source": [
    "x, y = genetics_df['parent_Tahoe_OG'], genetics_df['thc_content']\n",
    "plt.plot(x,y, 'ro')"
   ]
  }
 ],
 "metadata": {
  "kernelspec": {
   "display_name": "Python 3",
   "language": "python",
   "name": "python3"
  },
  "language_info": {
   "codemirror_mode": {
    "name": "ipython",
    "version": 3
   },
   "file_extension": ".py",
   "mimetype": "text/x-python",
   "name": "python",
   "nbconvert_exporter": "python",
   "pygments_lexer": "ipython3",
   "version": "3.6.1"
  }
 },
 "nbformat": 4,
 "nbformat_minor": 2
}

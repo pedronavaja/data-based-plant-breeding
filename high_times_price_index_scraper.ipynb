{
 "cells": [
  {
   "cell_type": "code",
   "execution_count": null,
   "metadata": {
    "collapsed": true
   },
   "outputs": [],
   "source": [
    "from __future__ import print_function, division\n",
    "import re\n",
    "import pandas as pd\n",
    "import requests\n",
    "from bs4 import BeautifulSoup\n",
    "from urllib.request import urlopen\n",
    "import urllib\n",
    "from PIL import Image\n",
    "import time \n"
   ]
  },
  {
   "cell_type": "code",
   "execution_count": null,
   "metadata": {
    "collapsed": true
   },
   "outputs": [],
   "source": [
    "months = ['january', 'february', 'march', 'april', 'may', 'june', 'july', 'august', 'september', 'october', 'december']\n",
    "years = ['2014', '2015', '2016']\n",
    "base_url = 'http://hightimes.com/business/pot-prices-'\n",
    "headers = {'User-Agent': 'Mozilla/5.0 (Macintosh; Intel Mac OS X 10_11_5) AppleWebKit/537.36 (KHTML, like Gecko) Chrome/50.0.2661.102 Safari/537.36'}\n",
    "\n",
    "\n",
    "def generate_urls(months,years):\n",
    "    urls = []\n",
    "    for year in years:\n",
    "        for month in months:\n",
    "            url = base_url + month + '-' + year + '-thmq'\n",
    "            print(url)\n",
    "            urls.append(url)\n",
    "    return urls \n",
    "\n",
    "def bit_ocr(filename):\n",
    "    #load image from file\n",
    "    #uses open OCR API at Bit OCR -- API key needed \n",
    "    with open(filename, 'rb') as file:\n",
    "        headers = {'content-type': 'multipart/form-data'}\n",
    "\n",
    "        payload = {'apikey': 'xxxxxxxxxxxxxxxx', 'lang': 'eng'}\n",
    "        files = {'file': file}\n",
    "        r = requests.post(\"http://www.bitocr.com/api\", data=payload, files=files)\n",
    "        result = r.json()\n",
    "        if result['error'] == 0:\n",
    "            #success\n",
    "    #         print(result['result'])\n",
    "            raw = result['result'].split('\\n')\n",
    "            prices = [cell.split(' ')[-1] for cell in raw]\n",
    "            strains = [cell.split(' ')[:-1] for cell in raw]\n",
    "            strains = [' '.join(strain) for strain in strains]\n",
    "            price_index_df = pd.DataFrame({'strain': strains, 'price': prices})\n",
    "            price_index_df['file'] = filename\n",
    "            print('Success!')\n",
    "        else:\n",
    "            #failed\n",
    "            print(\"Error #\" + str(result['error_code']) + \" \" + result['error_message'])\n",
    "\n",
    "    return price_index_df\n",
    "\n",
    "        \n",
    "def index_getter(months, years):\n",
    "    \n",
    "    index_urls = []\n",
    "    \n",
    "    cropped_fnames = []\n",
    "    \n",
    "    strain_prices = []\n",
    "    \n",
    "    urls = generate_urls(months, years)\n",
    "    \n",
    "    for url in urls: \n",
    "        response = requests.get(url,headers=headers)\n",
    "        page = response.text\n",
    "        try:\n",
    "            print('Souping: ' + url)\n",
    "            soup = BeautifulSoup(page, 'lxml')\n",
    "            if len(soup.find(class_=\"entry-content\").find_all('img')) > 1:\n",
    "                index_url = soup.find(class_=\"entry-content\").find_all('img')[1]['src']\n",
    "            else: \n",
    "                index_url = soup.find(class_=\"entry-content\").find('img')['src']\n",
    "            index_urls.append(index_url)\n",
    "            print(index_url)\n",
    "        except: \n",
    "            print('404!')\n",
    "            continue \n",
    "            \n",
    "    for each in index_urls:\n",
    "        try: \n",
    "            filename=each.split('/')[-1]\n",
    "            print('Getting %s' % filename)\n",
    "            urllib.request.urlretrieve(each, filename)\n",
    "        except:\n",
    "            print('Unable to retrieve %s' % filename)\n",
    "            pass\n",
    "         \n",
    "        try:\n",
    "            with Image.open(filename) as im:\n",
    "                strain_and_price_box = (340, 80, im.size[0], im.size[1])\n",
    "                strainNprice = im.crop(strain_and_price_box)\n",
    "                cropped_fname = 'cropped_' + filename\n",
    "                strainNprice.save(cropped_fname)\n",
    "                cropped_fnames.append(cropped_fname)\n",
    "        except:\n",
    "            print('Unable to crop %s' % filename)\n",
    "            pass\n",
    "        \n",
    "    for each in cropped_fnames:\n",
    "        \n",
    "        try:\n",
    "            print(\"OCRing %s\" % cropped_fname)\n",
    "            bit_ocr(cropped_fname)\n",
    "            strain_prices.append(price_index_df)\n",
    "            \n",
    "#             for point in price_index:\n",
    "#                 if point[0] not in strain_prices:\n",
    "#                     strain_prices[point[0]] = point[1]\n",
    "#                 else:\n",
    "#                     strain_prices[point[0]].append(point[1])\n",
    "        except Exception as e: \n",
    "            print('Unable to gather data for %s' % cropped_fname)\n",
    "            print(e)\n",
    "            pass\n",
    "        \n",
    "        print(\"Pausing for OCR...\")\n",
    "        time.sleep(300)\n",
    "        \n",
    "    return strain_prices"
   ]
  },
  {
   "cell_type": "code",
   "execution_count": null,
   "metadata": {
    "collapsed": true
   },
   "outputs": [],
   "source": [
    "strain_prices = index_getter(months, years)"
   ]
  },
  {
   "cell_type": "code",
   "execution_count": null,
   "metadata": {
    "collapsed": true
   },
   "outputs": [],
   "source": [
    "price_df = pd.concat(strain_prices).reset_index(drop=True)"
   ]
  },
  {
   "cell_type": "code",
   "execution_count": null,
   "metadata": {
    "collapsed": true
   },
   "outputs": [],
   "source": [
    "# Bit OCR generates some predictable errors in the form of extraneous leading characters\n",
    "# This strips the leading characters to clean the strain names up \n",
    "price_df['strain'] = price_df['strain'].map(lambda x: x.lstrip('1 '))\n",
    "price_df['strain'] = price_df['strain'].map(lambda x: x.lstrip('L '))\n",
    "price_df['strain'] = price_df['strain'].map(lambda x: x.lstrip('V '))\n",
    "price_df['strain'] = price_df['strain'].map(lambda x: x.lstrip('{ '))\n",
    "price_df['strain'] = price_df['strain'].map(lambda x: x.lstrip('3 '))"
   ]
  }
 ],
 "metadata": {
  "kernelspec": {
   "display_name": "Python 3",
   "language": "python",
   "name": "python3"
  },
  "language_info": {
   "codemirror_mode": {
    "name": "ipython",
    "version": 3
   },
   "file_extension": ".py",
   "mimetype": "text/x-python",
   "name": "python",
   "nbconvert_exporter": "python",
   "pygments_lexer": "ipython3",
   "version": "3.6.1"
  }
 },
 "nbformat": 4,
 "nbformat_minor": 2
}
